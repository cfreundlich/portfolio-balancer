{
 "cells": [
  {
   "cell_type": "code",
   "execution_count": 20,
   "metadata": {},
   "outputs": [],
   "source": [
    "from pprint import pprint\n",
    "\n",
    "\n",
    "CP_HOST = 'https://localhost:8080'"
   ]
  },
  {
   "cell_type": "code",
   "execution_count": 23,
   "metadata": {},
   "outputs": [
    {
     "name": "stdout",
     "output_type": "stream",
     "text": [
      "404\n"
     ]
    }
   ],
   "source": [
    "import requests\n",
    "session = requests.Session()\n",
    "session.verify = False\n",
    "response = session.post(url='https://127.0.0.1:8080/iserver/auth/status')\n",
    "print(response.status_code)\n",
    "# pprint(response.json())"
   ]
  },
  {
   "attachments": {},
   "cell_type": "markdown",
   "metadata": {},
   "source": [
    "I logged in to https://localhost:8080, redirected to https://localhost:8080/sso/Dispatcher, which shows me the message 'Client login succeeds'.  After this part, I tried three ways to get meaningful response from https://localhost:8080/iserver/auth/status.  In particular, I wanted to see a JSON as described https://interactivebrokers.github.io/cpwebapi/authentication.\n",
    "\n",
    "First attempt was with cURL:\n",
    "```bash\n",
    "❯ curl -X POST --insecure -v https://localhost:8080/iserver/auth/status\n",
    "*   Trying 127.0.0.1:8080...\n",
    "* Connected to localhost (127.0.0.1) port 8080 (#0)\n",
    "* ALPN: offers h2,http/1.1\n",
    "* (304) (OUT), TLS handshake, Client hello (1):\n",
    "* (304) (IN), TLS handshake, Server hello (2):\n",
    "* TLSv1.2 (IN), TLS handshake, Certificate (11):\n",
    "* TLSv1.2 (IN), TLS handshake, Server key exchange (12):\n",
    "* TLSv1.2 (IN), TLS handshake, Server finished (14):\n",
    "* TLSv1.2 (OUT), TLS handshake, Client key exchange (16):\n",
    "* TLSv1.2 (OUT), TLS change cipher, Change cipher spec (1):\n",
    "* TLSv1.2 (OUT), TLS handshake, Finished (20):\n",
    "* TLSv1.2 (IN), TLS change cipher, Change cipher spec (1):\n",
    "* TLSv1.2 (IN), TLS handshake, Finished (20):\n",
    "* SSL connection using TLSv1.2 / ECDHE-RSA-AES256-GCM-SHA384\n",
    "* ALPN: server did not agree on a protocol. Uses default.\n",
    "* Server certificate:\n",
    "*  subject: C=US; ST=CT; L=Greenwich; O=Interactive Brokers; OU=Client Portal; CN=Client Portal Web API\n",
    "*  start date: Feb 10 16:26:02 2019 GMT\n",
    "*  expire date: May 11 16:26:02 2019 GMT\n",
    "*  issuer: C=US; ST=CT; L=Greenwich; O=Interactive Brokers; OU=Client Portal; CN=Client Portal Web API\n",
    "*  SSL certificate verify result: self signed certificate (18), continuing anyway.\n",
    "* using HTTP/1.x\n",
    "> POST /iserver/auth/status HTTP/1.1\n",
    "> Host: localhost:8080\n",
    "> User-Agent: curl/7.88.1\n",
    "> Accept: */*\n",
    ">\n",
    "< HTTP/1.1 302 Found\n",
    "< Location: https://api.ibkr.com/iserver/auth/status\n",
    "< Transfer-Encoding: chunked\n",
    "<\n",
    "* Connection #0 to host localhost left intact\n",
    "```\n",
    "\n",
    "I also could not even resolve the API with Python:\n",
    "```python \n",
    "import requests\n",
    "session = requests.Session()\n",
    "session.verify = False\n",
    "response = session.post(url='https://127.0.0.1:8080/iserver/auth/status')\n",
    "print(response.status_code)\n",
    "``` \n",
    "which gives me a 404.\n",
    "\n",
    "I also tried navigating my browser to https://localhost:8080/iserver/auth/status, which immediately redirects to https://api.ibkr.com/iserver/auth/status and prints the following message:\n",
    "```\n",
    "Not Found\n",
    "The requested URL was not found on this server.\n",
    "\n",
    "Additionally, a 404 Not Found error was encountered while trying to use an ErrorDocument to handle the request.\n",
    "```"
   ]
  }
 ],
 "metadata": {
  "kernelspec": {
   "display_name": "Python 3",
   "language": "python",
   "name": "python3"
  },
  "language_info": {
   "codemirror_mode": {
    "name": "ipython",
    "version": 3
   },
   "file_extension": ".py",
   "mimetype": "text/x-python",
   "name": "python",
   "nbconvert_exporter": "python",
   "pygments_lexer": "ipython3",
   "version": "3.10.5"
  },
  "orig_nbformat": 4
 },
 "nbformat": 4,
 "nbformat_minor": 2
}
